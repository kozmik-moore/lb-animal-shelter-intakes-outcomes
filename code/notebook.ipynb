{
 "cells": [
  {
   "cell_type": "markdown",
   "id": "8ed569dd",
   "metadata": {},
   "source": [
    "# Project: Long Beach Animal Shelter Intakes and Outcomes\n",
    "\n",
    "## Project description\n",
    "\n",
    "**Objective**: \\\n",
    "\\\n",
    "Answer questions for various shareholders in the city of Long Beach, CA concerning intakes and outcomes at the local animal shelter.\n",
    "\n",
    "**Dataset**: \\\n",
    "\\\n",
    "This data was pulled from the [Long Beach Open Data Portal](https://data.longbeach.gov/explore/dataset/animal-shelter-intakes-and-outcomes/). \\\n",
    "It is a 7.8MB CSV file containing intake and outcome data for animals captured by or surrendered to the city.\n",
    "\n",
    "**Tools Used**:\n",
    "\n",
    "- pandas\n",
    "- Matplotlib\n",
    "- Seaborn"
   ]
  },
  {
   "cell_type": "markdown",
   "id": "44185ada",
   "metadata": {},
   "source": [
    "# Introduction\n",
    "\n",
    "For any city that has at least one animal shelter, there are various shareholders interested in how that shelter is run and what happens to the animals that pass through the shelter's doors.\\\n",
    "\\\n",
    "This analysis looks to answer questions for the following parties in Long Beach, CA:\n",
    "- **Shelter managers:**\n",
    "  - How long do animals typically stay in the shelter by species or intake condition?\n",
    "  - What intake reasons are most strongly correlated with negative outcomes (e.g., euthanasia)?\n",
    "  - Are there seasonal trends in animal intakes or outcomes?\n",
    "- **Animal welfare advocates:**\n",
    "  - What percentage of animals are adopted vs. euthanized, and how does that vary by type, sex, or condition?\n",
    "  - Are there disparities in outcomes for specific breeds or geographic areas?\n",
    "  - How many animals are returned to owners vs. adopted?\n",
    "- **Local government officials:**\n",
    "  - Is there a correlation between specific neighborhoods and high intake rates?\n",
    "  - Has the shelter’s performance improved over time (e.g., reduced euthanasia rates)?\n",
    "  - What’s the annual intake/output volume and trend?\n",
    "- **Local citizenry:**\n",
    "  - When is the best time of year to adopt (e.g., more animals available)?\n",
    "  - What types of animals are most commonly available for adoption?\n",
    "  - Can geographic patterns inform community outreach for fostering or adoption?\n",
    "- **Internal analysts:**\n",
    "  - What features best predict positive outcomes using logistic regression or clustering?\n",
    "  - Can intake condition be used to forecast outcome types?"
   ]
  },
  {
   "cell_type": "markdown",
   "id": "75a7d530",
   "metadata": {},
   "source": [
    "# Data handling\n",
    "\n",
    "## Preview"
   ]
  },
  {
   "cell_type": "code",
   "execution_count": null,
   "id": "f170f70a",
   "metadata": {},
   "outputs": [],
   "source": [
    "# Import packages\n",
    "import pandas as pd\n",
    "import numpy as np\n",
    "import matplotlib.pyplot as plt\n",
    "import seaborn as sns\n",
    "\n",
    "# Optional: visualization settings\n",
    "sns.set(style=\"whitegrid\")\n",
    "plt.rcParams[\"figure.figsize\"] = (10, 6)"
   ]
  },
  {
   "cell_type": "code",
   "execution_count": null,
   "id": "629bce47",
   "metadata": {},
   "outputs": [],
   "source": [
    "# Load data\n",
    "df = pd.read_csv('your_dataset.csv')  # Replace with your actual dataset\n",
    "\n",
    "# Preview\n",
    "df.head()"
   ]
  },
  {
   "cell_type": "code",
   "execution_count": null,
   "id": "832bc8b5",
   "metadata": {},
   "outputs": [],
   "source": [
    "# Structure and summary\n",
    "df.info()\n",
    "df.describe(include='all')"
   ]
  },
  {
   "cell_type": "markdown",
   "id": "08d4cbcc",
   "metadata": {},
   "source": [
    "## Cleaning and preparation"
   ]
  },
  {
   "cell_type": "markdown",
   "id": "c6724d88",
   "metadata": {},
   "source": [
    "## Exploratory Data Analysis (EDA)"
   ]
  },
  {
   "cell_type": "markdown",
   "id": "8ab47d07",
   "metadata": {},
   "source": [
    "## Deeper analysis and modeling"
   ]
  },
  {
   "cell_type": "markdown",
   "id": "f7c68449",
   "metadata": {},
   "source": [
    "# Analysis"
   ]
  },
  {
   "cell_type": "markdown",
   "id": "9beddd7d",
   "metadata": {},
   "source": [
    "## Insights and recommendations\n",
    "\n",
    "### Insights\n",
    "\n",
    "### Recommedations"
   ]
  },
  {
   "cell_type": "markdown",
   "id": "4b330f07",
   "metadata": {},
   "source": [
    "## Summary\n",
    "\n",
    "*This report can also be found [here](../products/report.md).*"
   ]
  },
  {
   "cell_type": "markdown",
   "id": "1c1d8aae",
   "metadata": {},
   "source": [
    "## Appendix"
   ]
  }
 ],
 "metadata": {
  "kernelspec": {
   "display_name": ".venv",
   "language": "python",
   "name": "python3"
  },
  "language_info": {
   "name": "python",
   "version": "3.11.5"
  }
 },
 "nbformat": 4,
 "nbformat_minor": 5
}
